{
 "cells": [
  {
   "cell_type": "markdown",
   "metadata": {},
   "source": [
    "<center> <img src = https://raw.githubusercontent.com/AndreyRysistov/DatasetsForPandas/main/hh%20label.jpg alt=\"drawing\" style=\"width:400px;\">"
   ]
  },
  {
   "cell_type": "markdown",
   "metadata": {},
   "source": [
    "# <center> Проект_2: Анализ резюме из HeadHunter"
   ]
  },
  {
   "cell_type": "markdown",
   "metadata": {},
   "source": []
  },
  {
   "cell_type": "code",
   "execution_count": 761,
   "metadata": {},
   "outputs": [],
   "source": [
    "import pandas as pd\n",
    "import numpy as np\n",
    "import matplotlib as pl\n",
    "import psycopg2\n",
    "\n",
    "\n",
    "DBNAME = 'project_sql'\n",
    "USER = 'skillfactory'\n",
    "PASSWORD = 'cCkxxLVrDE8EbvjueeMedPKt'\n",
    "HOST = '84.201.134.129'\n",
    "PORT = 5432\n",
    "\n",
    "connection = psycopg2.connect(\n",
    "    dbname = DBNAME,\n",
    "    user = USER,\n",
    "    password = PASSWORD,\n",
    "    host = HOST,\n",
    "    port = PORT\n",
    ")\n",
    "\n",
    "def print_query(query_i):\n",
    "    df = pd.read_sql_query(query_i, connection)\n",
    "    print(df)\n"
   ]
  },
  {
   "cell_type": "markdown",
   "metadata": {},
   "source": [
    "# Предварительный анализ данных"
   ]
  },
  {
   "cell_type": "markdown",
   "metadata": {},
   "source": [
    "1. Сколько вакансий есть в базе\n"
   ]
  },
  {
   "cell_type": "code",
   "execution_count": 762,
   "metadata": {},
   "outputs": [
    {
     "name": "stderr",
     "output_type": "stream",
     "text": [
      "C:\\Users\\geras\\AppData\\Local\\Temp\\ipykernel_16720\\4031417728.py:22: UserWarning: pandas only supports SQLAlchemy connectable (engine/connection) or database string URI or sqlite3 DBAPI2 connection. Other DBAPI2 objects are not tested. Please consider using SQLAlchemy.\n",
      "  df = pd.read_sql_query(query_i, connection)\n"
     ]
    },
    {
     "name": "stdout",
     "output_type": "stream",
     "text": [
      "   count\n",
      "0  49197\n"
     ]
    }
   ],
   "source": [
    "query_3_1 = f'''select\n",
    "            count(vacancies.id)\n",
    "            from vacancies\n",
    "            '''\n",
    "\n",
    "print_query(query_3_1)\n"
   ]
  },
  {
   "cell_type": "markdown",
   "metadata": {},
   "source": [
    "База ваканций насчитывает 49197 вакансию"
   ]
  },
  {
   "cell_type": "markdown",
   "metadata": {},
   "source": [
    "2. Сколько работадателей есть в базе"
   ]
  },
  {
   "cell_type": "code",
   "execution_count": 763,
   "metadata": {},
   "outputs": [
    {
     "name": "stdout",
     "output_type": "stream",
     "text": [
      "   count\n",
      "0  23501\n"
     ]
    },
    {
     "name": "stderr",
     "output_type": "stream",
     "text": [
      "C:\\Users\\geras\\AppData\\Local\\Temp\\ipykernel_16720\\4031417728.py:22: UserWarning: pandas only supports SQLAlchemy connectable (engine/connection) or database string URI or sqlite3 DBAPI2 connection. Other DBAPI2 objects are not tested. Please consider using SQLAlchemy.\n",
      "  df = pd.read_sql_query(query_i, connection)\n"
     ]
    }
   ],
   "source": [
    "query_3_2 = f'''select\n",
    "            count(employers.id)\n",
    "            from employers\n",
    "            '''\n",
    "print_query(query_3_2)"
   ]
  },
  {
   "cell_type": "markdown",
   "metadata": {},
   "source": [
    "В базе назодятся 23501 работадатель"
   ]
  },
  {
   "cell_type": "markdown",
   "metadata": {},
   "source": [
    "3. Сколько регионов есть в базе"
   ]
  },
  {
   "cell_type": "code",
   "execution_count": 764,
   "metadata": {},
   "outputs": [
    {
     "name": "stderr",
     "output_type": "stream",
     "text": [
      "C:\\Users\\geras\\AppData\\Local\\Temp\\ipykernel_16720\\4031417728.py:22: UserWarning: pandas only supports SQLAlchemy connectable (engine/connection) or database string URI or sqlite3 DBAPI2 connection. Other DBAPI2 objects are not tested. Please consider using SQLAlchemy.\n",
      "  df = pd.read_sql_query(query_i, connection)\n"
     ]
    },
    {
     "name": "stdout",
     "output_type": "stream",
     "text": [
      "   count\n",
      "0   1362\n"
     ]
    }
   ],
   "source": [
    "query_3_3 = f'''select\n",
    "            count(areas.id)\n",
    "            from areas\n",
    "            '''\n",
    "print_query(query_3_3)"
   ]
  },
  {
   "cell_type": "markdown",
   "metadata": {},
   "source": [
    "База насчитывает 1362 региона"
   ]
  },
  {
   "cell_type": "markdown",
   "metadata": {},
   "source": [
    "4. Сколько сфер деятельности есть в базе"
   ]
  },
  {
   "cell_type": "code",
   "execution_count": 765,
   "metadata": {},
   "outputs": [
    {
     "name": "stderr",
     "output_type": "stream",
     "text": [
      "C:\\Users\\geras\\AppData\\Local\\Temp\\ipykernel_16720\\4031417728.py:22: UserWarning: pandas only supports SQLAlchemy connectable (engine/connection) or database string URI or sqlite3 DBAPI2 connection. Other DBAPI2 objects are not tested. Please consider using SQLAlchemy.\n",
      "  df = pd.read_sql_query(query_i, connection)\n"
     ]
    },
    {
     "name": "stdout",
     "output_type": "stream",
     "text": [
      "   count\n",
      "0    294\n"
     ]
    }
   ],
   "source": [
    "query_3_4 = f'''select\n",
    "            count(industries.id)\n",
    "            from industries\n",
    "            '''\n",
    "print_query(query_3_4)"
   ]
  },
  {
   "cell_type": "markdown",
   "metadata": {},
   "source": [
    "294 сферы деятельности указаны в базе данных"
   ]
  },
  {
   "cell_type": "markdown",
   "metadata": {},
   "source": [
    "Общий вывод. Достаточна обьемная база данных для построения выполнения запросов извлечения из нее необходимой информации и составляние выводов по тем или иным вопросам."
   ]
  },
  {
   "cell_type": "markdown",
   "metadata": {},
   "source": [
    "# Детальный анализ вакансий"
   ]
  },
  {
   "cell_type": "markdown",
   "metadata": {},
   "source": [
    "1. Пятерка лидеров регионов по количеству вакансий"
   ]
  },
  {
   "cell_type": "code",
   "execution_count": 766,
   "metadata": {},
   "outputs": [
    {
     "name": "stderr",
     "output_type": "stream",
     "text": [
      "C:\\Users\\geras\\AppData\\Local\\Temp\\ipykernel_16720\\4031417728.py:22: UserWarning: pandas only supports SQLAlchemy connectable (engine/connection) or database string URI or sqlite3 DBAPI2 connection. Other DBAPI2 objects are not tested. Please consider using SQLAlchemy.\n",
      "  df = pd.read_sql_query(query_i, connection)\n"
     ]
    },
    {
     "name": "stdout",
     "output_type": "stream",
     "text": [
      "              name      cnt\n",
      "0           Москва   5333.0\n",
      "1  Санкт-Петербург   2851.0\n",
      "2            Минск   2112.0\n",
      "3      Новосибирск   2006.0\n",
      "4           Алматы   1892.0\n",
      "5       total of 5  14194.0\n",
      "6  total vacancies  49197.0\n"
     ]
    }
   ],
   "source": [
    "query_4_1 = f'''with temp as(select \n",
    "            count(vacancies.id) as cnt,\n",
    "            areas.name\n",
    "            from vacancies\n",
    "            join areas on areas.id = vacancies.area_id\n",
    "            group by areas.name\n",
    "            order by 1 desc\n",
    "            limit 5)\n",
    "            \n",
    "            select \n",
    "                temp.name,\n",
    "                temp.cnt\n",
    "            from temp\n",
    "                union all \n",
    "            select \n",
    "                'total of 5',\n",
    "                sum(temp.cnt) as sum_1\n",
    "            from temp\n",
    "                union all\n",
    "            select \n",
    "                'total vacancies',\n",
    "                count(vacancies.id)\n",
    "            from vacancies\n",
    "           '''\n",
    "\n",
    "print_query(query_4_1)\n",
    "   "
   ]
  },
  {
   "cell_type": "markdown",
   "metadata": {},
   "source": [
    "Москва, Санкт Петербург, Минск, Новосибирск и Алматы являются лидерами по количеству прелагаемых вакансий. Эти пять городов предлагают чуть больше 14 тысяч позиций и имеют треть от всех вакансии на рынке "
   ]
  },
  {
   "cell_type": "markdown",
   "metadata": {},
   "source": [
    "2.  У какого количества вакансий заполнено хотя бы одно из двух полей с зарплатой?"
   ]
  },
  {
   "cell_type": "code",
   "execution_count": 767,
   "metadata": {},
   "outputs": [
    {
     "name": "stderr",
     "output_type": "stream",
     "text": [
      "C:\\Users\\geras\\AppData\\Local\\Temp\\ipykernel_16720\\4031417728.py:22: UserWarning: pandas only supports SQLAlchemy connectable (engine/connection) or database string URI or sqlite3 DBAPI2 connection. Other DBAPI2 objects are not tested. Please consider using SQLAlchemy.\n",
      "  df = pd.read_sql_query(query_i, connection)\n"
     ]
    },
    {
     "name": "stdout",
     "output_type": "stream",
     "text": [
      "   count\n",
      "0  24073\n"
     ]
    }
   ],
   "source": [
    "query_4_2 = f'''select \n",
    "            count(id)\n",
    "            from vacancies\n",
    "            where salary_from > 0 or salary_to > 0\n",
    "            '''\n",
    "print_query(query_4_2)"
   ]
  },
  {
   "cell_type": "markdown",
   "metadata": {},
   "source": [
    "в 24073 вакансиях присутствуют сведения о зарплате "
   ]
  },
  {
   "cell_type": "markdown",
   "metadata": {},
   "source": [
    "3. Средние значения для нижней и верхней границы зарплатной вилки"
   ]
  },
  {
   "cell_type": "code",
   "execution_count": 768,
   "metadata": {},
   "outputs": [
    {
     "name": "stderr",
     "output_type": "stream",
     "text": [
      "C:\\Users\\geras\\AppData\\Local\\Temp\\ipykernel_16720\\4031417728.py:22: UserWarning: pandas only supports SQLAlchemy connectable (engine/connection) or database string URI or sqlite3 DBAPI2 connection. Other DBAPI2 objects are not tested. Please consider using SQLAlchemy.\n",
      "  df = pd.read_sql_query(query_i, connection)\n"
     ]
    },
    {
     "name": "stdout",
     "output_type": "stream",
     "text": [
      "   mean_salary_from\n",
      "0           71065.0\n",
      "1          110537.0\n"
     ]
    }
   ],
   "source": [
    "query_4_3 = f'''select\n",
    "                round(avg(salary_from)) mean_salary_from\n",
    "                from vacancies\n",
    "                where salary_from is not Null\n",
    "                union \n",
    "                select\n",
    "                round(avg(salary_to)) \n",
    "                from vacancies\n",
    "                where salary_to is not null\n",
    "            ''' \n",
    "print_query(query_4_3)"
   ]
  },
  {
   "cell_type": "markdown",
   "metadata": {},
   "source": [
    "Среднии значения для нижней и верхней зарплатной вилки варьируются от 71.075 до 110.537 руб.  "
   ]
  },
  {
   "cell_type": "markdown",
   "metadata": {},
   "source": [
    "4. Количество вакансий для каждого сочетания типа рабочего графика и типа трудоустройства. Какая пара находится на втором месте по популярности?"
   ]
  },
  {
   "cell_type": "code",
   "execution_count": 769,
   "metadata": {},
   "outputs": [
    {
     "name": "stderr",
     "output_type": "stream",
     "text": [
      "C:\\Users\\geras\\AppData\\Local\\Temp\\ipykernel_16720\\4031417728.py:22: UserWarning: pandas only supports SQLAlchemy connectable (engine/connection) or database string URI or sqlite3 DBAPI2 connection. Other DBAPI2 objects are not tested. Please consider using SQLAlchemy.\n",
      "  df = pd.read_sql_query(query_i, connection)\n"
     ]
    },
    {
     "name": "stdout",
     "output_type": "stream",
     "text": [
      "    count          schedule           employment\n",
      "0   35367       Полный день     Полная занятость\n",
      "1    7802  Удаленная работа     Полная занятость\n",
      "2    1593     Гибкий график     Полная занятость\n",
      "3    1312  Удаленная работа  Частичная занятость\n",
      "4     940    Сменный график     Полная занятость\n",
      "5     569       Полный день           Стажировка\n",
      "6     367    Вахтовый метод     Полная занятость\n",
      "7     347       Полный день  Частичная занятость\n",
      "8     312     Гибкий график  Частичная занятость\n",
      "9     141       Полный день     Проектная работа\n",
      "10    133  Удаленная работа     Проектная работа\n",
      "11    116     Гибкий график           Стажировка\n",
      "12    101    Сменный график  Частичная занятость\n",
      "13     64  Удаленная работа           Стажировка\n",
      "14     18     Гибкий график     Проектная работа\n",
      "15     12    Сменный график           Стажировка\n",
      "16      2    Вахтовый метод     Проектная работа\n",
      "17      1    Сменный график     Проектная работа\n"
     ]
    }
   ],
   "source": [
    "query_4_4 = f'''select\n",
    "                count(schedule),\n",
    "                vacancies.schedule,\n",
    "                count(employment),\n",
    "                vacancies.employment\n",
    "                from vacancies\n",
    "                group by vacancies.schedule, vacancies.employment\n",
    "                order by 1 desc\n",
    "            '''\n",
    "print_query(query_4_4)"
   ]
  },
  {
   "cell_type": "markdown",
   "metadata": {},
   "source": [
    "Полная занятость с полным рабочим денем является самой распространенным видом в предлагаемых позициях"
   ]
  },
  {
   "cell_type": "markdown",
   "metadata": {},
   "source": [
    "5. Требуемый опыт работы в порядке возрастания количества вакансий, в которых указан данный вариант опыта."
   ]
  },
  {
   "cell_type": "code",
   "execution_count": 770,
   "metadata": {},
   "outputs": [
    {
     "name": "stderr",
     "output_type": "stream",
     "text": [
      "C:\\Users\\geras\\AppData\\Local\\Temp\\ipykernel_16720\\4031417728.py:22: UserWarning: pandas only supports SQLAlchemy connectable (engine/connection) or database string URI or sqlite3 DBAPI2 connection. Other DBAPI2 objects are not tested. Please consider using SQLAlchemy.\n",
      "  df = pd.read_sql_query(query_i, connection)\n"
     ]
    },
    {
     "name": "stdout",
     "output_type": "stream",
     "text": [
      "   count          experience\n",
      "0   1337         Более 6 лет\n",
      "1   7197           Нет опыта\n",
      "2  14511       От 3 до 6 лет\n",
      "3  26152  От 1 года до 3 лет\n"
     ]
    }
   ],
   "source": [
    "query_4_5 = f'''select \n",
    "                count(experience),\n",
    "                vacancies.experience\n",
    "                from vacancies\n",
    "                group by vacancies.experience\n",
    "                having vacancies.experience is not null\n",
    "                order by 1 asc\n",
    "            '''\n",
    "print_query(query_4_5)"
   ]
  },
  {
   "cell_type": "markdown",
   "metadata": {},
   "source": [
    "Для 26.152 вакансий ищут соискателей с опытом работы от 1 года до 3 лет и 14.511 с опытом от 3 до 6 лет. Спросом пользуются молодые специалисты. Большинство вакансии для специалистов с опытом до 6 лет"
   ]
  },
  {
   "cell_type": "markdown",
   "metadata": {},
   "source": [
    "# Анализ работодателей"
   ]
  },
  {
   "cell_type": "markdown",
   "metadata": {},
   "source": [
    "1. Какие работодатели находятся на первом и пятом месте по количеству вакансий."
   ]
  },
  {
   "cell_type": "code",
   "execution_count": 771,
   "metadata": {},
   "outputs": [
    {
     "name": "stderr",
     "output_type": "stream",
     "text": [
      "C:\\Users\\geras\\AppData\\Local\\Temp\\ipykernel_16720\\4031417728.py:22: UserWarning: pandas only supports SQLAlchemy connectable (engine/connection) or database string URI or sqlite3 DBAPI2 connection. Other DBAPI2 objects are not tested. Please consider using SQLAlchemy.\n",
      "  df = pd.read_sql_query(query_i, connection)\n"
     ]
    },
    {
     "name": "stdout",
     "output_type": "stream",
     "text": [
      "   count           name\n",
      "0   1933         Яндекс\n",
      "1    491     Ростелеком\n",
      "2    444       Тинькофф\n",
      "3    428           СБЕР\n",
      "4    331  Газпром нефть\n"
     ]
    }
   ],
   "source": [
    "query_5_1 = f'''\n",
    "            select \n",
    "            count(vacancies.employer_id),\n",
    "            employers.name\n",
    "            from employers\n",
    "            join vacancies on employers.id = vacancies.employer_id\n",
    "            group by vacancies.employer_id, employers.name\n",
    "            order by 1 desc\n",
    "            limit 5 \n",
    "            '''        \n",
    "print_query(query_5_1)                        "
   ]
  },
  {
   "cell_type": "markdown",
   "metadata": {},
   "source": [
    "Яндекс предлагает соискателем почти 2 тысячи вакансий, является работадателем с самым большим предложением на рабочем рынке. Яндекс предлагает в 4 раза больше вакансий чем Ростелеком который находится на втором месте в списке по количеству вакансий с 491 открытыми позициями и больше чем 4 последуйщих работадателей вместе взятых после Яндекса"
   ]
  },
  {
   "cell_type": "markdown",
   "metadata": {},
   "source": [
    "2. Среди регионов, в которых нет вакансий, найдите тот, в котором наибольшее количество работодателей. "
   ]
  },
  {
   "cell_type": "code",
   "execution_count": 772,
   "metadata": {},
   "outputs": [
    {
     "name": "stderr",
     "output_type": "stream",
     "text": [
      "C:\\Users\\geras\\AppData\\Local\\Temp\\ipykernel_16720\\4031417728.py:22: UserWarning: pandas only supports SQLAlchemy connectable (engine/connection) or database string URI or sqlite3 DBAPI2 connection. Other DBAPI2 objects are not tested. Please consider using SQLAlchemy.\n",
      "  df = pd.read_sql_query(query_i, connection)\n"
     ]
    },
    {
     "name": "stdout",
     "output_type": "stream",
     "text": [
      "                   name  num_employers  num_vacancies\n",
      "0                Россия            410              0\n",
      "1             Казахстан            207              0\n",
      "2    Московская область             75              0\n",
      "3    Краснодарский край             19              0\n",
      "4    Ростовская область             18              0\n",
      "..                  ...            ...            ...\n",
      "588             Скидель              0              0\n",
      "589          Белоозерск              0              0\n",
      "590           Орловский              0              0\n",
      "591          Павловская              0              0\n",
      "592             Таксимо              0              0\n",
      "\n",
      "[593 rows x 3 columns]\n"
     ]
    }
   ],
   "source": [
    "query_5_2  = f'''\n",
    "            select\n",
    "                areas.name,\n",
    "                count(distinct employers.id) as num_employers,\n",
    "                count(distinct vacancies.id) as num_vacancies\n",
    "            from \n",
    "                areas\n",
    "            left join        \n",
    "                employers on employers.area = areas.id\n",
    "            left join\n",
    "                vacancies on vacancies.area_id = areas.id\n",
    "            where vacancies.id is null\n",
    "            group by areas.id\n",
    "            order by num_employers desc\n",
    "            '''\n",
    "            \n",
    "print_query(query_5_2) "
   ]
  },
  {
   "cell_type": "markdown",
   "metadata": {},
   "source": [
    "Россия занимает первое место в котором наибольшее количество работадателей но нет вакансии. На третьем месте московская область. Возможно что данные немного искажены так как московская область находится в россии и регион \"Россия\" уже включает в себя данные с других областей и регионов страны. "
   ]
  },
  {
   "cell_type": "markdown",
   "metadata": {},
   "source": [
    "3. Количество регионов для каждого работодателя, в которых он публикует свои вакансии и максимальное значение"
   ]
  },
  {
   "cell_type": "code",
   "execution_count": 773,
   "metadata": {},
   "outputs": [
    {
     "name": "stderr",
     "output_type": "stream",
     "text": [
      "C:\\Users\\geras\\AppData\\Local\\Temp\\ipykernel_16720\\4031417728.py:22: UserWarning: pandas only supports SQLAlchemy connectable (engine/connection) or database string URI or sqlite3 DBAPI2 connection. Other DBAPI2 objects are not tested. Please consider using SQLAlchemy.\n",
      "  df = pd.read_sql_query(query_i, connection)\n"
     ]
    },
    {
     "name": "stdout",
     "output_type": "stream",
     "text": [
      "       count                                              name\n",
      "0        181                                            Яндекс\n",
      "1        152                                        Ростелеком\n",
      "2        116                                        Спецремонт\n",
      "3         88                            Поляков Денис Иванович\n",
      "4         71                                         ООО ЕФИН \n",
      "...      ...                                               ...\n",
      "14897      1                                         TheRabota\n",
      "14898      1  The Skolkovo Institute of Science and Technology\n",
      "14899      1                                         Theyr Ltd\n",
      "14900      1                                           THINK24\n",
      "14901      1                                        think-cell\n",
      "\n",
      "[14902 rows x 2 columns]\n"
     ]
    }
   ],
   "source": [
    "query_5_3 = f'''\n",
    "            select \n",
    "                count(distinct area_id),\n",
    "                employers.name\n",
    "            from vacancies \n",
    "            join employers on vacancies.employer_id = employers.id\n",
    "            group by employers.name, employers.area\n",
    "            --having count(distinct area_id) = 1\n",
    "            order by 1 desc\n",
    "            '''\n",
    "print_query(query_5_3) "
   ]
  },
  {
   "cell_type": "markdown",
   "metadata": {},
   "source": [
    "Топ три работадателя (Яндекс, Ростелеком, Спецремонт) размещают вакансии больше чем в 100 разных регионов каждый. В 12.482 регионов есть по одной всего лишь вакансии. "
   ]
  },
  {
   "cell_type": "markdown",
   "metadata": {},
   "source": [
    "4. Количество работадателей у которых не указана сфера деятельности"
   ]
  },
  {
   "cell_type": "code",
   "execution_count": 774,
   "metadata": {},
   "outputs": [
    {
     "name": "stdout",
     "output_type": "stream",
     "text": [
      "   count\n",
      "0   8419\n"
     ]
    },
    {
     "name": "stderr",
     "output_type": "stream",
     "text": [
      "C:\\Users\\geras\\AppData\\Local\\Temp\\ipykernel_16720\\4031417728.py:22: UserWarning: pandas only supports SQLAlchemy connectable (engine/connection) or database string URI or sqlite3 DBAPI2 connection. Other DBAPI2 objects are not tested. Please consider using SQLAlchemy.\n",
      "  df = pd.read_sql_query(query_i, connection)\n"
     ]
    }
   ],
   "source": [
    "query_5_4 = f'''\n",
    "            select\n",
    "            count(e.name)\n",
    "            from employers e\n",
    "            left join employers_industries ei on e.id = ei.employer_id\n",
    "            left join industries i on i.id = ei.industry_id\n",
    "            where i is null\n",
    "            '''\n",
    "\n",
    "print_query(query_5_4) "
   ]
  },
  {
   "cell_type": "markdown",
   "metadata": {},
   "source": [
    "8419 работадателей не указали сферу деятельности"
   ]
  },
  {
   "cell_type": "markdown",
   "metadata": {},
   "source": [
    "5. Название компании, находящейся на третьем месте в алфавитном списке (по названию) компаний, у которых указано четыре сферы деятельности."
   ]
  },
  {
   "cell_type": "code",
   "execution_count": 775,
   "metadata": {},
   "outputs": [
    {
     "name": "stderr",
     "output_type": "stream",
     "text": [
      "C:\\Users\\geras\\AppData\\Local\\Temp\\ipykernel_16720\\4031417728.py:22: UserWarning: pandas only supports SQLAlchemy connectable (engine/connection) or database string URI or sqlite3 DBAPI2 connection. Other DBAPI2 objects are not tested. Please consider using SQLAlchemy.\n",
      "  df = pd.read_sql_query(query_i, connection)\n"
     ]
    },
    {
     "name": "stdout",
     "output_type": "stream",
     "text": [
      "           name  count\n",
      "0  101 Интернет      4\n",
      "1      21vek.by      4\n",
      "2          2ГИС      4\n"
     ]
    }
   ],
   "source": [
    "query_5_5 = f'''\n",
    "            select \n",
    "                e.name,\n",
    "                count(ei.industry_id)\n",
    "            from employers e\n",
    "            join employers_industries as ei on e.id = ei.employer_id \n",
    "            group by e.id\n",
    "            having count(industry_id) = 4 \n",
    "            order by name asc\n",
    "            limit 3\n",
    "            '''\n",
    "print_query(query_5_5) "
   ]
  },
  {
   "cell_type": "markdown",
   "metadata": {},
   "source": [
    "6.  У какого количества работодателей в качестве сферы деятельности указана «Разработка программного обеспечения»."
   ]
  },
  {
   "cell_type": "code",
   "execution_count": 776,
   "metadata": {},
   "outputs": [
    {
     "name": "stderr",
     "output_type": "stream",
     "text": [
      "C:\\Users\\geras\\AppData\\Local\\Temp\\ipykernel_16720\\4031417728.py:22: UserWarning: pandas only supports SQLAlchemy connectable (engine/connection) or database string URI or sqlite3 DBAPI2 connection. Other DBAPI2 objects are not tested. Please consider using SQLAlchemy.\n",
      "  df = pd.read_sql_query(query_i, connection)\n"
     ]
    },
    {
     "name": "stdout",
     "output_type": "stream",
     "text": [
      "      count\n",
      "0         1\n",
      "1         1\n",
      "2         1\n",
      "3         1\n",
      "4         1\n",
      "...     ...\n",
      "3548      1\n",
      "3549      1\n",
      "3550      1\n",
      "3551      1\n",
      "3552      1\n",
      "\n",
      "[3553 rows x 1 columns]\n"
     ]
    }
   ],
   "source": [
    "query_5_6 = f'''\n",
    "            select \n",
    "            count(e.id)\n",
    "            from employers e\n",
    "            join employers_industries as ei on e.id = ei.employer_id\n",
    "            join industries i on i.id = ei.industry_id\n",
    "            where i.name = 'Разработка программного обеспечения'\n",
    "            group by e.id, ei.employer_id, ei.industry_id, i.id\n",
    "            '''\n",
    "print_query(query_5_6)"
   ]
  },
  {
   "cell_type": "markdown",
   "metadata": {},
   "source": [
    " У 3553 работодателей в качестве сферы деятельности указана «Разработка программного обеспечения»."
   ]
  },
  {
   "cell_type": "markdown",
   "metadata": {},
   "source": [
    "7. Для компании «Яндекс» выведите список регионов-миллионников , в которых представлены вакансии компании, вместе с количеством вакансий в этих регионах. Также добавьте строку Total с общим количеством вакансий компании, собранных в этой таблице. "
   ]
  },
  {
   "cell_type": "code",
   "execution_count": 777,
   "metadata": {},
   "outputs": [
    {
     "name": "stderr",
     "output_type": "stream",
     "text": [
      "C:\\Users\\geras\\AppData\\Local\\Temp\\ipykernel_16720\\4031417728.py:22: UserWarning: pandas only supports SQLAlchemy connectable (engine/connection) or database string URI or sqlite3 DBAPI2 connection. Other DBAPI2 objects are not tested. Please consider using SQLAlchemy.\n",
      "  df = pd.read_sql_query(query_i, connection)\n"
     ]
    },
    {
     "name": "stdout",
     "output_type": "stream",
     "text": [
      "               name    cnt\n",
      "0         Волгоград   24.0\n",
      "1           Воронеж   32.0\n",
      "2      Екатеринбург   39.0\n",
      "3            Казань   25.0\n",
      "4         Краснодар   30.0\n",
      "5        Красноярск   23.0\n",
      "6            Москва   54.0\n",
      "7   Нижний Новгород   36.0\n",
      "8       Новосибирск   35.0\n",
      "9              Омск   21.0\n",
      "10            Пермь   25.0\n",
      "11   Ростов-на-Дону   25.0\n",
      "12           Самара   26.0\n",
      "13  Санкт-Петербург   42.0\n",
      "14              Уфа   26.0\n",
      "15        Челябинск   22.0\n",
      "16            total  485.0\n"
     ]
    }
   ],
   "source": [
    "import requests\n",
    "from bs4 import BeautifulSoup\n",
    "\n",
    "url = 'https://ru.wikipedia.org/wiki/%D0%93%D0%BE%D1%80%D0%BE%D0%B4%D0%B0-%D0%BC%D0%B8%D0%BB%D0%BB%D0%B8%D0%BE%D0%BD%D0%B5%D1%80%D1%8B_%D0%A0%D0%BE%D1%81%D1%81%D0%B8%D0%B8'\n",
    "response = requests.get(url)\n",
    "page = BeautifulSoup(response.text, 'html.parser')\n",
    "\n",
    "cities_here = str(page.find('table', class_= \"standard\"))\n",
    "cities_here = cities_here.split('title=\"')[3:]\n",
    "\n",
    "million_cities = []\n",
    "for i in cities_here:\n",
    "    million_cities.append(i.split('\">')[0])\n",
    "\n",
    "# print(million_cities)\n",
    "    \n",
    "million_cities = tuple(million_cities)\n",
    "    \n",
    "\n",
    "query_5_7 = f'''\n",
    "            with temp as( \n",
    "            select \n",
    "                a.name as name,\n",
    "                count(v.id) as cnt\n",
    "            from employers e\n",
    "                join vacancies v on e.id = v.employer_id\n",
    "                join areas a on a.id = v.area_id\n",
    "            where e.name = 'Яндекс' \n",
    "            group by a.name\n",
    "            having a.name in {million_cities})\n",
    "            \n",
    "            select \n",
    "                temp.name,\n",
    "                temp.cnt\n",
    "            from temp\n",
    "                union all \n",
    "            select \n",
    "                'total',\n",
    "                sum(temp.cnt)\n",
    "            from temp\n",
    "            '''\n",
    "print_query(query_5_7)"
   ]
  },
  {
   "cell_type": "markdown",
   "metadata": {},
   "source": [
    "Компания Яндекс прелагает 485 вакансий в 16 разных городах миллионниках. "
   ]
  },
  {
   "cell_type": "markdown",
   "metadata": {},
   "source": []
  },
  {
   "cell_type": "markdown",
   "metadata": {},
   "source": [
    "# Предметный анализ"
   ]
  },
  {
   "cell_type": "markdown",
   "metadata": {},
   "source": [
    "1.Сколько вакансий имеет отношение к данным?"
   ]
  },
  {
   "cell_type": "code",
   "execution_count": 778,
   "metadata": {},
   "outputs": [
    {
     "name": "stderr",
     "output_type": "stream",
     "text": [
      "C:\\Users\\geras\\AppData\\Local\\Temp\\ipykernel_16720\\4031417728.py:22: UserWarning: pandas only supports SQLAlchemy connectable (engine/connection) or database string URI or sqlite3 DBAPI2 connection. Other DBAPI2 objects are not tested. Please consider using SQLAlchemy.\n",
      "  df = pd.read_sql_query(query_i, connection)\n"
     ]
    },
    {
     "name": "stdout",
     "output_type": "stream",
     "text": [
      "   count\n",
      "0   1771\n"
     ]
    }
   ],
   "source": [
    "query_6_1 = f'''\n",
    "                select \n",
    "                count(v.id)\n",
    "                from vacancies v\n",
    "                where v.name ilike '%data%' or v.name ilike '%данн%'\n",
    "            '''\n",
    "            \n",
    "print_query(query_6_1) "
   ]
  },
  {
   "cell_type": "markdown",
   "metadata": {},
   "source": [
    " 1771 вакансий иммет отношение к данным."
   ]
  },
  {
   "cell_type": "markdown",
   "metadata": {},
   "source": [
    "2. Сколько есть подходящих вакансий для начинающего дата-сайентиста?"
   ]
  },
  {
   "cell_type": "code",
   "execution_count": 779,
   "metadata": {},
   "outputs": [
    {
     "name": "stderr",
     "output_type": "stream",
     "text": [
      "C:\\Users\\geras\\AppData\\Local\\Temp\\ipykernel_16720\\4031417728.py:22: UserWarning: pandas only supports SQLAlchemy connectable (engine/connection) or database string URI or sqlite3 DBAPI2 connection. Other DBAPI2 objects are not tested. Please consider using SQLAlchemy.\n",
      "  df = pd.read_sql_query(query_i, connection)\n"
     ]
    },
    {
     "name": "stdout",
     "output_type": "stream",
     "text": [
      "   count\n",
      "0     51\n"
     ]
    }
   ],
   "source": [
    "query_6_2 = f'''with temp as(\n",
    "                    select\n",
    "                    --count(v.name)\n",
    "                    v.name,\n",
    "                    v.experience,\n",
    "                    v.employment\n",
    "                    from vacancies v\n",
    "                    where v.name ilike '%data scientist%' or \n",
    "                        v.name ilike '%data science%' or \n",
    "                        v.name ilike '%ML%' and v.name not ilike '%html%' or \n",
    "                        v.name ilike '%исследователь данных%' or\n",
    "                        v.name ilike '%machine learning%' or \n",
    "                        v.name ilike '%машин%обучен%')\n",
    "                \n",
    "                select\n",
    "                count(*)\n",
    "                from temp t\n",
    "                where t.name ilike '%junior%' or\n",
    "                    t.experience ilike '%нет опыта%' or\n",
    "                    t.employment ilike '%стажировка%' \n",
    "            '''\n",
    "print_query(query_6_2)"
   ]
  },
  {
   "cell_type": "markdown",
   "metadata": {},
   "source": [
    "51 вакансий  в базе данных могут подойти для начинающего дата-сайентиста "
   ]
  },
  {
   "cell_type": "markdown",
   "metadata": {},
   "source": [
    "3. Сколько есть вакансий для DS, в которых в качестве ключевого навыка указан SQL или postgres?\n"
   ]
  },
  {
   "cell_type": "code",
   "execution_count": 780,
   "metadata": {},
   "outputs": [
    {
     "name": "stderr",
     "output_type": "stream",
     "text": [
      "C:\\Users\\geras\\AppData\\Local\\Temp\\ipykernel_16720\\4031417728.py:22: UserWarning: pandas only supports SQLAlchemy connectable (engine/connection) or database string URI or sqlite3 DBAPI2 connection. Other DBAPI2 objects are not tested. Please consider using SQLAlchemy.\n",
      "  df = pd.read_sql_query(query_i, connection)\n"
     ]
    },
    {
     "name": "stdout",
     "output_type": "stream",
     "text": [
      "                                               name          experience   \n",
      "0                           Junior+ CV/ML developer  От 1 года до 3 лет  \\\n",
      "1                                    Data Scientist  От 1 года до 3 лет   \n",
      "2                            QA Automation TeamLead       От 3 до 6 лет   \n",
      "3                               PHP Senior/TeamLead  От 1 года до 3 лет   \n",
      "4                                    Data Scientist  От 1 года до 3 лет   \n",
      "..                                              ...                 ...   \n",
      "224                     Senior Developer (teamlead)         Более 6 лет   \n",
      "225   Руководитель группы разработки (TeamLead PHP)       От 3 до 6 лет   \n",
      "226  Machine Learning and Computer vision developer  От 1 года до 3 лет   \n",
      "227                   Middle+/Senior Data Scientist       От 3 до 6 лет   \n",
      "228     Системный аналитик /Middle+/Senior/TeamLead       От 3 до 6 лет   \n",
      "\n",
      "           employment                                         key_skills  \n",
      "0    Полная занятость          Python\\tSQL\\tРабота в команде\\tOpenCV\\tML  \n",
      "1    Полная занятость  Oracle Pl/SQL\\tБазы данных\\tMachine Learning\\t...  \n",
      "2    Полная занятость  Atlassian Jira\\tФункциональное тестирование\\tS...  \n",
      "3    Полная занятость  Разработка ПО\\tJavaScript\\tSQL\\tMySQL\\tВеб-про...  \n",
      "4    Полная занятость   Python\\tSQL\\tNLP\\tScikit-learn\\tMachine Learning  \n",
      "..                ...                                                ...  \n",
      "224  Полная занятость  Git\\tООП\\tPostgreSQL\\tBPMN\\tBackend\\tРабота с ...  \n",
      "225  Полная занятость  Docker\\tPHP\\tYii\\tElasticsearch\\tMySQL\\tПодбор...  \n",
      "226  Полная занятость  Python\\tLinux\\tSQL\\tPyTorch\\tOpenCV\\tKeras\\tCa...  \n",
      "227  Полная занятость  SCALA\\tSQL\\tМатематический анализ\\tСтатистичес...  \n",
      "228  Полная занятость  UML\\tSQL\\tBPMN\\tSOAP\\tREST\\tПостановка задач р...  \n",
      "\n",
      "[229 rows x 4 columns]\n"
     ]
    }
   ],
   "source": [
    "query_6_3  = f'''\n",
    "            with temp as(\n",
    "                    select\n",
    "                    --count(v.name)\n",
    "                    v.name,\n",
    "                    v.experience,\n",
    "                    v.employment,\n",
    "                    v.key_skills\n",
    "                    from vacancies v\n",
    "                    where v.name ilike '%data scientist%' or \n",
    "                        v.name ilike '%data science%' or \n",
    "                        v.name ilike '%ML%' and v.name not ilike '%html%' or \n",
    "                        v.name ilike '%исследователь данных%' or\n",
    "                        v.name ilike '%machine learning%' or \n",
    "                        v.name ilike '%машин%обучен%')\n",
    "                        \n",
    "            select*\n",
    "            from temp\n",
    "            where key_skills ilike '%sql%' or\n",
    "                key_skills ilike '%postgres%'\n",
    "            '''\n",
    "            \n",
    "print_query(query_6_3) "
   ]
  },
  {
   "cell_type": "markdown",
   "metadata": {},
   "source": [
    "Для 229 вакансии на позицию Data Science соискателям нобзодимо знание SQL "
   ]
  },
  {
   "cell_type": "markdown",
   "metadata": {},
   "source": [
    "4. Насколько пайтон актуален в вакансиях? Количество вакансий, в которых в качестве ключевого навыка указан Python?"
   ]
  },
  {
   "cell_type": "code",
   "execution_count": 781,
   "metadata": {},
   "outputs": [
    {
     "name": "stderr",
     "output_type": "stream",
     "text": [
      "C:\\Users\\geras\\AppData\\Local\\Temp\\ipykernel_16720\\4031417728.py:22: UserWarning: pandas only supports SQLAlchemy connectable (engine/connection) or database string URI or sqlite3 DBAPI2 connection. Other DBAPI2 objects are not tested. Please consider using SQLAlchemy.\n",
      "  df = pd.read_sql_query(query_i, connection)\n"
     ]
    },
    {
     "name": "stdout",
     "output_type": "stream",
     "text": [
      "   count\n",
      "0    357\n"
     ]
    }
   ],
   "source": [
    "\n",
    "query_6_4  = f'''\n",
    "            with temp as(\n",
    "                    select\n",
    "                    --count(v.name)\n",
    "                    v.name,\n",
    "                    v.experience,\n",
    "                    v.employment,\n",
    "                    v.key_skills\n",
    "                    from vacancies v\n",
    "                    where v.name ilike '%data scientist%' or \n",
    "                        v.name ilike '%data science%' or \n",
    "                        v.name ilike '%ML%' and v.name not ilike '%html%' or \n",
    "                        v.name ilike '%исследователь данных%' or\n",
    "                        v.name ilike '%machine learning%' or \n",
    "                        v.name ilike '%машин%обучен%')\n",
    "                        \n",
    "            select\n",
    "            count(*)\n",
    "            from temp\n",
    "            where key_skills ilike '%python%'\n",
    "            '''\n",
    "            \n",
    "print_query(query_6_4) "
   ]
  },
  {
   "cell_type": "markdown",
   "metadata": {},
   "source": [
    "Для 357 вакансии на позицию Data Science соискателям нобзодимо знание Python "
   ]
  },
  {
   "cell_type": "markdown",
   "metadata": {},
   "source": [
    "5. Сколько ключевых навыков в среднем указывают в вакансиях для DS? Ответ округлите до двух знаков после точки-разделителя."
   ]
  },
  {
   "cell_type": "code",
   "execution_count": 782,
   "metadata": {},
   "outputs": [
    {
     "name": "stderr",
     "output_type": "stream",
     "text": [
      "C:\\Users\\geras\\AppData\\Local\\Temp\\ipykernel_16720\\4031417728.py:22: UserWarning: pandas only supports SQLAlchemy connectable (engine/connection) or database string URI or sqlite3 DBAPI2 connection. Other DBAPI2 objects are not tested. Please consider using SQLAlchemy.\n",
      "  df = pd.read_sql_query(query_i, connection)\n"
     ]
    },
    {
     "name": "stdout",
     "output_type": "stream",
     "text": [
      "   round\n",
      "0   6.64\n"
     ]
    },
    {
     "name": "stderr",
     "output_type": "stream",
     "text": [
      "C:\\Users\\geras\\AppData\\Local\\Temp\\ipykernel_16720\\4031417728.py:22: UserWarning: pandas only supports SQLAlchemy connectable (engine/connection) or database string URI or sqlite3 DBAPI2 connection. Other DBAPI2 objects are not tested. Please consider using SQLAlchemy.\n",
      "  df = pd.read_sql_query(query_i, connection)\n"
     ]
    },
    {
     "name": "stdout",
     "output_type": "stream",
     "text": [
      "                                            key_skills\n",
      "0                        JavaScript\\tSass\\tCSS3\\tHTML5\n",
      "1            Python\\tSQL\\tРабота в команде\\tOpenCV\\tML\n",
      "2    JavaScript\\tCSS3\\tHTML5\\tjQuery\\tКроссбраузерн...\n",
      "3    Oracle Pl/SQL\\tБазы данных\\tMachine Learning\\t...\n",
      "4    Python\\tOpenCV\\tTensorflow\\tComputer Vision\\tН...\n",
      "..                                                 ...\n",
      "604  CSS3\\tHTML5\\tAdobe Photoshop\\tGit\\tКроссбраузе...\n",
      "605  Twig\\tDocker-compose\\tGulp\\tCMS Wordpress\\tVue...\n",
      "606               Ответственность, способность учиться\n",
      "607  HTML5\\tjQuery\\tCSS3\\tBootstrap\\tJavaScript\\tPH...\n",
      "608               JavaScript\\tHTML5\\tjQuery\\tCSS\\tHTML\n",
      "\n",
      "[609 rows x 1 columns]\n"
     ]
    }
   ],
   "source": [
    "query_6_5  = f'''\n",
    "            with temp as(\n",
    "                    select\n",
    "                    --count(v.name)\n",
    "                    v.name,\n",
    "                    v.experience,\n",
    "                    v.employment,\n",
    "                    v.key_skills\n",
    "                    from vacancies v\n",
    "                    where v.name ilike '%data scientist%' or \n",
    "                        v.name ilike '%data science%' or \n",
    "                        v.name like '%ML%' and v.name not like '%html%' or \n",
    "                        v.name ilike '%исследователь данных%' or\n",
    "                        v.name ilike '%machine learning%' or \n",
    "                        v.name ilike '%машин%обучен%')\n",
    "                        \n",
    "            select\n",
    "                round(avg(length(key_skills)-length(replace(key_skills, CHR(9), ''))+1), 2)\n",
    "            from temp\n",
    "                where key_skills is not null\n",
    "            '''\n",
    "query_6_5_1  = f'''\n",
    "                    select\n",
    "                    v.key_skills\n",
    "                    from vacancies v\n",
    "                    where v.name ilike '%data scientist%' or \n",
    "                        v.name ilike '%data science%' or \n",
    "                        v.name like '%ML%' and v.name not like '%html%' or \n",
    "                        v.name ilike '%исследователь данных%' or\n",
    "                        v.name ilike '%machine learning%' or \n",
    "                        v.name ilike '%машин%обучен%'\n",
    "                    \n",
    "            '''\n",
    "            \n",
    "print_query(query_6_5) \n",
    "print_query(query_6_5_1)"
   ]
  },
  {
   "cell_type": "markdown",
   "metadata": {},
   "source": [
    "В среднем в вакансиях для DS указывают 6 ключевых навыков? Из ключевых можно отметить: HTML, Python, SQL, JavaScript, HTML5, ML/Computer Vision"
   ]
  },
  {
   "cell_type": "markdown",
   "metadata": {},
   "source": [
    "6.  Выясните, на какую зарплату в среднем может рассчитывать дата-сайентист с опытом работы от 3 до 6 лет. Результат округлите до целого числа."
   ]
  },
  {
   "cell_type": "code",
   "execution_count": 783,
   "metadata": {},
   "outputs": [
    {
     "name": "stderr",
     "output_type": "stream",
     "text": [
      "C:\\Users\\geras\\AppData\\Local\\Temp\\ipykernel_16720\\4031417728.py:22: UserWarning: pandas only supports SQLAlchemy connectable (engine/connection) or database string URI or sqlite3 DBAPI2 connection. Other DBAPI2 objects are not tested. Please consider using SQLAlchemy.\n",
      "  df = pd.read_sql_query(query_i, connection)\n"
     ]
    },
    {
     "name": "stdout",
     "output_type": "stream",
     "text": [
      "           experience   avg_sal\n",
      "0           Нет опыта   74643.0\n",
      "1  От 1 года до 3 лет  139675.0\n",
      "2       От 3 до 6 лет  243115.0\n"
     ]
    }
   ],
   "source": [
    "query_6_6 = f'''\n",
    "                 select\n",
    "                    v.experience,\n",
    "                    round(avg(coalesce((v.salary_to + v.salary_from)/2, v.salary_from, v.salary_to)), 0) as avg_sal\n",
    "                 from \n",
    "                    vacancies v\n",
    "                where \n",
    "                    ((v.name ilike '%data scientist%')\n",
    "                    or (v.name ilike '%data science%') \n",
    "                    or (v.name ilike '%исследователь данных%')\n",
    "                    or ((v.name like '%ML%') and (v.name not ilike '%HTML%'))\n",
    "                    or (v.name ilike '%machine learning%')\n",
    "                    or (v.name ilike '%машин%обучен%'))\n",
    "                    and ((v.salary_from is not null)or(v.salary_to is not null))\n",
    "                group by 1\n",
    "                '''\n",
    "print_query(query_6_6) \n"
   ]
  },
  {
   "cell_type": "markdown",
   "metadata": {},
   "source": [
    "В среднем дата сайентисты с опытом более трех лет могут расчитывать на зарплату 240 тысяч"
   ]
  },
  {
   "cell_type": "markdown",
   "metadata": {},
   "source": [
    "В целом основываясь на выводах с запросов можно сделать заключение что профессия дата-сайентиста  является одной из самых востребованных и популярных на рынке труда. Для большинства вакансий необходим опыт от одного года и выше. При этом зарплаты дата саентистов сильно различаются в зависимости от опыта работы. В целом можно охарактеризовать эту профессию с высоким уровнем зароботной платы"
   ]
  },
  {
   "cell_type": "code",
   "execution_count": 784,
   "metadata": {},
   "outputs": [],
   "source": [
    "connection.close()"
   ]
  }
 ],
 "metadata": {
  "kernelspec": {
   "display_name": "Python 3",
   "language": "python",
   "name": "python3"
  },
  "language_info": {
   "codemirror_mode": {
    "name": "ipython",
    "version": 3
   },
   "file_extension": ".py",
   "mimetype": "text/x-python",
   "name": "python",
   "nbconvert_exporter": "python",
   "pygments_lexer": "ipython3",
   "version": "3.10.11"
  }
 },
 "nbformat": 4,
 "nbformat_minor": 2
}
